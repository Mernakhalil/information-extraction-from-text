{
 "cells": [
  {
   "cell_type": "code",
   "execution_count": 1,
   "metadata": {},
   "outputs": [
    {
     "name": "stdout",
     "output_type": "stream",
     "text": [
      "Requirement already satisfied: gradio in c:\\users\\dell\\anaconda3\\lib\\site-packages (3.31.0)\n",
      "Requirement already satisfied: aiofiles in c:\\users\\dell\\anaconda3\\lib\\site-packages (from gradio) (23.1.0)\n",
      "Requirement already satisfied: aiohttp in c:\\users\\dell\\anaconda3\\lib\\site-packages (from gradio) (3.8.4)\n",
      "Requirement already satisfied: altair>=4.2.0 in c:\\users\\dell\\anaconda3\\lib\\site-packages (from gradio) (5.0.0)\n",
      "Requirement already satisfied: fastapi in c:\\users\\dell\\anaconda3\\lib\\site-packages (from gradio) (0.95.2)\n",
      "Requirement already satisfied: ffmpy in c:\\users\\dell\\anaconda3\\lib\\site-packages (from gradio) (0.3.0)\n",
      "Requirement already satisfied: gradio-client>=0.2.4 in c:\\users\\dell\\anaconda3\\lib\\site-packages (from gradio) (0.2.5)\n",
      "Requirement already satisfied: httpx in c:\\users\\dell\\anaconda3\\lib\\site-packages (from gradio) (0.24.0)\n",
      "Requirement already satisfied: huggingface-hub>=0.13.0 in c:\\users\\dell\\anaconda3\\lib\\site-packages (from gradio) (0.14.1)\n",
      "Requirement already satisfied: jinja2 in c:\\users\\dell\\anaconda3\\lib\\site-packages (from gradio) (2.11.3)\n",
      "Requirement already satisfied: markdown-it-py[linkify]>=2.0.0 in c:\\users\\dell\\anaconda3\\lib\\site-packages (from gradio) (2.2.0)\n",
      "Requirement already satisfied: markupsafe in c:\\users\\dell\\anaconda3\\lib\\site-packages (from gradio) (1.1.1)\n",
      "Requirement already satisfied: matplotlib in c:\\users\\dell\\anaconda3\\lib\\site-packages (from gradio) (3.4.3)\n",
      "Requirement already satisfied: mdit-py-plugins<=0.3.3 in c:\\users\\dell\\anaconda3\\lib\\site-packages (from gradio) (0.3.3)\n",
      "Requirement already satisfied: numpy in c:\\users\\dell\\anaconda3\\lib\\site-packages (from gradio) (1.20.3)\n",
      "Requirement already satisfied: orjson in c:\\users\\dell\\anaconda3\\lib\\site-packages (from gradio) (3.8.12)\n",
      "Requirement already satisfied: pandas in c:\\users\\dell\\anaconda3\\lib\\site-packages (from gradio) (1.3.4)\n",
      "Requirement already satisfied: pillow in c:\\users\\dell\\anaconda3\\lib\\site-packages (from gradio) (8.4.0)\n",
      "Requirement already satisfied: pydantic in c:\\users\\dell\\anaconda3\\lib\\site-packages (from gradio) (1.10.7)\n",
      "Requirement already satisfied: pydub in c:\\users\\dell\\anaconda3\\lib\\site-packages (from gradio) (0.25.1)\n",
      "Requirement already satisfied: pygments>=2.12.0 in c:\\users\\dell\\anaconda3\\lib\\site-packages (from gradio) (2.15.1)\n",
      "Requirement already satisfied: python-multipart in c:\\users\\dell\\anaconda3\\lib\\site-packages (from gradio) (0.0.6)\n",
      "Requirement already satisfied: pyyaml in c:\\users\\dell\\anaconda3\\lib\\site-packages (from gradio) (6.0)\n",
      "Requirement already satisfied: requests in c:\\users\\dell\\anaconda3\\lib\\site-packages (from gradio) (2.26.0)\n",
      "Requirement already satisfied: semantic-version in c:\\users\\dell\\anaconda3\\lib\\site-packages (from gradio) (2.10.0)\n",
      "Requirement already satisfied: typing-extensions in c:\\users\\dell\\anaconda3\\lib\\site-packages (from gradio) (4.5.0)\n",
      "Requirement already satisfied: uvicorn>=0.14.0 in c:\\users\\dell\\anaconda3\\lib\\site-packages (from gradio) (0.22.0)\n",
      "Requirement already satisfied: websockets>=10.0 in c:\\users\\dell\\anaconda3\\lib\\site-packages (from gradio) (11.0.3)\n",
      "Requirement already satisfied: jsonschema>=3.0 in c:\\users\\dell\\anaconda3\\lib\\site-packages (from altair>=4.2.0->gradio) (3.2.0)\n",
      "Requirement already satisfied: toolz in c:\\users\\dell\\anaconda3\\lib\\site-packages (from altair>=4.2.0->gradio) (0.11.1)\n",
      "Requirement already satisfied: fsspec in c:\\users\\dell\\anaconda3\\lib\\site-packages (from gradio-client>=0.2.4->gradio) (2021.10.1)\n",
      "Requirement already satisfied: packaging in c:\\users\\dell\\anaconda3\\lib\\site-packages (from gradio-client>=0.2.4->gradio) (21.0)\n",
      "Requirement already satisfied: filelock in c:\\users\\dell\\anaconda3\\lib\\site-packages (from huggingface-hub>=0.13.0->gradio) (3.3.1)\n",
      "Requirement already satisfied: tqdm>=4.42.1 in c:\\users\\dell\\anaconda3\\lib\\site-packages (from huggingface-hub>=0.13.0->gradio) (4.62.3)\n",
      "Requirement already satisfied: mdurl~=0.1 in c:\\users\\dell\\anaconda3\\lib\\site-packages (from markdown-it-py[linkify]>=2.0.0->gradio) (0.1.2)\n",
      "Requirement already satisfied: linkify-it-py<3,>=1 in c:\\users\\dell\\anaconda3\\lib\\site-packages (from markdown-it-py[linkify]>=2.0.0->gradio) (2.0.2)\n",
      "Requirement already satisfied: python-dateutil>=2.7.3 in c:\\users\\dell\\anaconda3\\lib\\site-packages (from pandas->gradio) (2.8.2)\n",
      "Requirement already satisfied: pytz>=2017.3 in c:\\users\\dell\\anaconda3\\lib\\site-packages (from pandas->gradio) (2021.3)\n",
      "Requirement already satisfied: click>=7.0 in c:\\users\\dell\\anaconda3\\lib\\site-packages (from uvicorn>=0.14.0->gradio) (8.0.3)\n",
      "Requirement already satisfied: h11>=0.8 in c:\\users\\dell\\anaconda3\\lib\\site-packages (from uvicorn>=0.14.0->gradio) (0.14.0)\n",
      "Requirement already satisfied: attrs>=17.3.0 in c:\\users\\dell\\anaconda3\\lib\\site-packages (from aiohttp->gradio) (21.2.0)\n",
      "Requirement already satisfied: charset-normalizer<4.0,>=2.0 in c:\\users\\dell\\anaconda3\\lib\\site-packages (from aiohttp->gradio) (2.0.4)\n",
      "Requirement already satisfied: multidict<7.0,>=4.5 in c:\\users\\dell\\anaconda3\\lib\\site-packages (from aiohttp->gradio) (6.0.4)\n",
      "Requirement already satisfied: async-timeout<5.0,>=4.0.0a3 in c:\\users\\dell\\anaconda3\\lib\\site-packages (from aiohttp->gradio) (4.0.2)\n",
      "Requirement already satisfied: yarl<2.0,>=1.0 in c:\\users\\dell\\anaconda3\\lib\\site-packages (from aiohttp->gradio) (1.9.2)\n",
      "Requirement already satisfied: frozenlist>=1.1.1 in c:\\users\\dell\\anaconda3\\lib\\site-packages (from aiohttp->gradio) (1.3.3)\n",
      "Requirement already satisfied: aiosignal>=1.1.2 in c:\\users\\dell\\anaconda3\\lib\\site-packages (from aiohttp->gradio) (1.3.1)\n",
      "Requirement already satisfied: starlette<0.28.0,>=0.27.0 in c:\\users\\dell\\anaconda3\\lib\\site-packages (from fastapi->gradio) (0.27.0)\n",
      "Requirement already satisfied: certifi in c:\\users\\dell\\anaconda3\\lib\\site-packages (from httpx->gradio) (2021.10.8)\n",
      "Requirement already satisfied: httpcore<0.18.0,>=0.15.0 in c:\\users\\dell\\anaconda3\\lib\\site-packages (from httpx->gradio) (0.17.0)\n",
      "Requirement already satisfied: idna in c:\\users\\dell\\anaconda3\\lib\\site-packages (from httpx->gradio) (3.2)\n",
      "Requirement already satisfied: sniffio in c:\\users\\dell\\anaconda3\\lib\\site-packages (from httpx->gradio) (1.2.0)\n",
      "Requirement already satisfied: cycler>=0.10 in c:\\users\\dell\\anaconda3\\lib\\site-packages (from matplotlib->gradio) (0.10.0)\n",
      "Requirement already satisfied: kiwisolver>=1.0.1 in c:\\users\\dell\\anaconda3\\lib\\site-packages (from matplotlib->gradio) (1.3.1)\n",
      "Requirement already satisfied: pyparsing>=2.2.1 in c:\\users\\dell\\anaconda3\\lib\\site-packages (from matplotlib->gradio) (3.0.4)\n",
      "Requirement already satisfied: urllib3<1.27,>=1.21.1 in c:\\users\\dell\\anaconda3\\lib\\site-packages (from requests->gradio) (1.26.7)\n",
      "Requirement already satisfied: colorama in c:\\users\\dell\\anaconda3\\lib\\site-packages (from click>=7.0->uvicorn>=0.14.0->gradio) (0.4.6)\n",
      "Requirement already satisfied: six in c:\\users\\dell\\anaconda3\\lib\\site-packages (from cycler>=0.10->matplotlib->gradio) (1.16.0)\n",
      "Requirement already satisfied: anyio<5.0,>=3.0 in c:\\users\\dell\\anaconda3\\lib\\site-packages (from httpcore<0.18.0,>=0.15.0->httpx->gradio) (3.6.2)\n",
      "Requirement already satisfied: pyrsistent>=0.14.0 in c:\\users\\dell\\anaconda3\\lib\\site-packages (from jsonschema>=3.0->altair>=4.2.0->gradio) (0.18.0)\n",
      "Requirement already satisfied: setuptools in c:\\users\\dell\\appdata\\roaming\\python\\python39\\site-packages (from jsonschema>=3.0->altair>=4.2.0->gradio) (67.7.2)\n",
      "Requirement already satisfied: uc-micro-py in c:\\users\\dell\\anaconda3\\lib\\site-packages (from linkify-it-py<3,>=1->markdown-it-py[linkify]>=2.0.0->gradio) (1.0.2)\n",
      "Note: you may need to restart the kernel to use updated packages.\n"
     ]
    }
   ],
   "source": [
    "pip install gradio"
   ]
  },
  {
   "cell_type": "code",
   "execution_count": 2,
   "metadata": {},
   "outputs": [
    {
     "name": "stderr",
     "output_type": "stream",
     "text": [
      "C:\\Users\\DELL\\anaconda3\\lib\\site-packages\\gradio\\inputs.py:27: UserWarning: Usage of gradio.inputs is deprecated, and will not be supported in the future, please import your component from gradio.components\n",
      "  warnings.warn(\n",
      "C:\\Users\\DELL\\anaconda3\\lib\\site-packages\\gradio\\inputs.py:30: UserWarning: `optional` parameter is deprecated, and it has no effect\n",
      "  super().__init__(\n",
      "C:\\Users\\DELL\\anaconda3\\lib\\site-packages\\gradio\\inputs.py:30: UserWarning: `numeric` parameter is deprecated, and it has no effect\n",
      "  super().__init__(\n",
      "C:\\Users\\DELL\\anaconda3\\lib\\site-packages\\gradio\\outputs.py:257: UserWarning: Usage of gradio.outputs is deprecated, and will not be supported in the future, please import your components from gradio.components\n",
      "  warnings.warn(\n",
      "C:\\Users\\DELL\\anaconda3\\lib\\site-packages\\gradio\\blocks.py:666: UserWarning: Cannot load compact. Caught Exception: The space compact does not exist\n",
      "  warnings.warn(f\"Cannot load {theme}. Caught Exception: {str(e)}\")\n",
      "C:\\Users\\DELL\\AppData\\Local\\Temp/ipykernel_15904/4280161939.py:26: UserWarning: `layout` parameter is deprecated, and it has no effect\n",
      "  interface = gr.Interface(fn=extract_information, inputs=input_textbox, outputs=output_json,\n",
      "C:\\Users\\DELL\\AppData\\Local\\Temp/ipykernel_15904/4280161939.py:26: UserWarning: You have unused kwarg parameters in Interface, please remove them: {'share': False}\n",
      "  interface = gr.Interface(fn=extract_information, inputs=input_textbox, outputs=output_json,\n"
     ]
    },
    {
     "name": "stdout",
     "output_type": "stream",
     "text": [
      "Running on local URL:  http://127.0.0.1:7860\n",
      "\n",
      "To create a public link, set `share=True` in `launch()`.\n"
     ]
    },
    {
     "data": {
      "text/html": [
       "<div><iframe src=\"http://127.0.0.1:7860/\" width=\"100%\" height=\"500\" allow=\"autoplay; camera; microphone; clipboard-read; clipboard-write;\" frameborder=\"0\" allowfullscreen></iframe></div>"
      ],
      "text/plain": [
       "<IPython.core.display.HTML object>"
      ]
     },
     "metadata": {},
     "output_type": "display_data"
    },
    {
     "data": {
      "text/plain": []
     },
     "execution_count": 2,
     "metadata": {},
     "output_type": "execute_result"
    }
   ],
   "source": [
    "import spacy\n",
    "\n",
    "import gradio as gr\n",
    "\n",
    "# Load the pre-trained spaCy NLP model\n",
    "nlp = spacy.load(\"en_core_web_sm\")\n",
    "\n",
    "# Define a function to extract information from an input text\n",
    "def extract_information(text):\n",
    "    # Process the text with the NLP model\n",
    "    doc = nlp(text)\n",
    "\n",
    "    # Extract the relevant information from the text\n",
    "    entities = []\n",
    "    for ent in doc.ents:\n",
    "        entities.append({\"text\": ent.text, \"label\": ent.label_})\n",
    "\n",
    "    # Return the extracted information as a dictionary\n",
    "    return {\"entities\": entities}\n",
    "\n",
    "# Define the Gradio interface\n",
    "input_textbox = gr.inputs.Textbox(lines=7, label=\"Enter some text to extract information from:\",\n",
    "                                  placeholder=\"Type or paste your text here...\")\n",
    "output_json = gr.outputs.JSON(label=\"Extracted Information\")\n",
    "\n",
    "interface = gr.Interface(fn=extract_information, inputs=input_textbox, outputs=output_json,\n",
    "                         title=\"INFORMATION EXTRACTION\",\n",
    "                         #description=\"Extract information from text using a pre-trained spaCy NLP model.\"\n",
    "                                   #  \"This model extracts named entities (e.g., persons, locations, organizations) from the input text.\",\n",
    "                         examples=[[\"Apple was founded by Steve Jobs and Steve Wozniak in April 1976.\"],\n",
    "                                   [\"The Eiffel Tower is a wrought-iron lattice tower on the Champ de Mars in Paris, France.\"]],\n",
    "                         theme=\"compact\", layout=\"vertical\", \n",
    "                         analytics_enabled=False, share=False,\n",
    "                         description=\"\"\"\"<h3 style='text-align: center'>Extract information from text using a pre-trained spaCy NLP model. This model extracts named entities (e.g., persons, locations, organizations) from the input text.\n",
    "                         Some named entities and what it's represents:</h3>\n",
    "               <p style='text-align: center'><span style=\"font-weight:bold;\">ORG:</span> Organization - refers to a company, institution, or other organization.</p>\n",
    "               <p style='text-align: center'><span style=\"font-weight:bold;\">GPE:</span> Geo-Political Entity - refers to a country, city, state, or other geopolitical entity.</p>\n",
    "               <p style='text-align: center'><span style=\"font-weight:bold;\">FAC:</span> Facility - refers to a building, airport, highway, bridge, or other facility.</p>\n",
    "               <p style='text-align: center '><span style=\"font-weight:bold;\">PERSON:</span> Person - refers to a person, including their name or pronoun.</p>\n",
    "               <p style='text-align: center'><span style=\"font-weight:bold;\">DATE:</span> Date - refers to a specific date or range of dates.</p>\n",
    "               <p style='text-align: center'><span style=\"font-weight:bold;\">TIME:</span> Time - refers to a specific time or range of times.</p>\n",
    "               <p style='text-align: center'><span style=\"font-weight:bold;\">MONEY:</span> Money - refers to a monetary value, including currency.</p>\n",
    "               <p style='text-align: center'><span style=\"font-weight:bold;\">PERCENT:</span> Percent - refers to a percentage value.</p>\n",
    "               <p style='text-align: center'><span style=\"font-weight:bold;\">PRODUCT:</span> Product - refers to a product, including brand names.</p>\n",
    "               <p style='text-align: center'><span style=\"font-weight:bold;\">EVENT:</span> Event - refers to a specific event, such as a war or sports competition.</p>\"\"\")\n",
    "\n",
    "# Set the CSS styles for the interface\n",
    "input_textbox.style = \"border: 1px solid #ccc; padding: 10px; font-size: 16px;\"\n",
    "output_json.style = \"background-color: #f0f0f0; border-radius: 4px; padding: 10px; font-size: 16px;\"\n",
    "interface.css = \"body { font-size: 30px !important; }\"\n",
    "\n",
    "\n",
    "# Launch the Gradio interface\n",
    "interface.launch()"
   ]
  },
  {
   "cell_type": "code",
   "execution_count": null,
   "metadata": {},
   "outputs": [],
   "source": []
  }
 ],
 "metadata": {
  "kernelspec": {
   "display_name": "Python 3 (ipykernel)",
   "language": "python",
   "name": "python3"
  },
  "language_info": {
   "codemirror_mode": {
    "name": "ipython",
    "version": 3
   },
   "file_extension": ".py",
   "mimetype": "text/x-python",
   "name": "python",
   "nbconvert_exporter": "python",
   "pygments_lexer": "ipython3",
   "version": "3.9.7"
  }
 },
 "nbformat": 4,
 "nbformat_minor": 2
}
